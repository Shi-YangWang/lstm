{
 "cells": [
  {
   "cell_type": "markdown",
   "metadata": {},
   "source": [
    "# Hierarchical Temporal Memory"
   ]
  },
  {
   "cell_type": "markdown",
   "metadata": {},
   "source": [
    "### Cortical Column <br/>\n",
    " A single layer in an HTM network is structured\n",
    "as a set of mini-columns, each with a set of cells (Figure 1B).\n",
    "The HTM neuron model incorporates dendritic properties of\n",
    "pyramidal cells in neocortex (Spruston, 2008), where proximal\n",
    "and distal dendritic segments on HTM neurons have different\n",
    "functions (Figure 1C) (Hawkins and Ahmad, 2016). Patterns\n",
    "detected on proximal dendrites lead to action potentials and\n",
    "define the classic receptive field of the neuron. Patterns\n",
    "recognized by a neuron’s distal synapses act as predictions by\n",
    "depolarizing the cell without directly causing an action potential.\n",
    "![avatar](img/column.png)"
   ]
  },
  {
   "cell_type": "markdown",
   "metadata": {},
   "source": [
    "### HTM Neuron\n",
    "\n",
    "HTM Neuron的distal dendrite部分形似树干<br/>\n",
    "每个Segment就是树干上的一段树枝<br/>\n",
    "每个Synapse就是树枝上的一个生长点<br/>\n",
    "![avatar](img/neuron.png)"
   ]
  },
  {
   "cell_type": "markdown",
   "metadata": {},
   "source": [
    "### Spatial Pooling\n",
    "![avatar](img/pooling.png)"
   ]
  },
  {
   "cell_type": "markdown",
   "metadata": {},
   "source": [
    "### Hebbian Learning\n",
    "\n",
    "<b>Permanence value</b>: A scalar value (0.0 to 1.0) that is assigned to each synapse to indicate how permanent the\n",
    "connection is. When a connection is reinforced, its permanence value is increased. Under other conditions, the\n",
    "permanence value is decreased.</br>\n",
    "\n",
    "<b>Permanence threshold</b>: If a synapse’s permanence value is above this threshold, it is considered fully connected.\n",
    "Acceptable values are [0,1].</br>\n",
    "\n",
    "<b>Synapse</b>: A junction between cells. A synapse can be in the following states:</br>\n",
    " - <b>Connected</b>   permanence is above the threshold.</br>\n",
    " - <b>Potential</b>   permanence is below the threshold.</br>\n",
    " - <b>Unconnected</b> does not have the ability to connect."
   ]
  },
  {
   "cell_type": "markdown",
   "metadata": {},
   "source": [
    "### Temporal Memory\n",
    "\n",
    "A column is predicted if any of its cells have an active distal dendrite segment<br/>\n",
    "<b>预测为正，真实为正</b><br/>\n",
    "For each active column, if any cell was predicted, those predicted cells become active (lines 11-12). Each of these cells is marked\n",
    "as a “winner” (line 13), making them presynaptic candidates for synapse growth in the next time step.<br/>\n",
    "For each of these correctly active segments, reinforce the synapses that activated the segment, and punish the synapses that didn’t\n",
    "contribute (lines 16-20). If the segment has fewer than SYNAPSE_SAMPLE_SIZE active synapses, grow new synapses to a subset\n",
    "of the winner cells from the previous time step to make up the difference (lines 22 – 24).<br/>\n",
    "在这种情况下，active cell全部成为winner cell<br/>\n",
    "<b>预测为负，真实为正</b><br/>\n",
    "If the column activation was unexpected, then each cell in the column becomes active (lines 26-27).<br/>\n",
    "Select a winner cell and a learning segment for the column (lines 29-35).<br/>\n",
    "If any cells have a matching segment, select the best\n",
    "matching segment and its cell (lines 30-31). <br/>\n",
    "Otherwise select the least used cell and grow a new segment on it (line 33-35).<br/>\n",
    "On the learning segment, reinforce the synapses that partially activated the segment, and punish the synapses that didn’t\n",
    "contribute (lines 40-44). Then grow new synapses to a subset of the previous time step’s winner cells (lines 46-48).<br/>\n",
    "<b>预测为正，真实为负</b><br/>\n",
    "When a column with matching segments doesn’t become active, punish the synapses that caused these segments to be\n",
    "“matching”.<br/>\n",
    "<b>预测为负，真实为负</b><br/>\n",
    "Do nothing."
   ]
  },
  {
   "cell_type": "markdown",
   "metadata": {},
   "source": [
    "# Code Repo"
   ]
  },
  {
   "cell_type": "code",
   "execution_count": 38,
   "metadata": {},
   "outputs": [],
   "source": [
    "import numpy as np\n",
    "import math\n",
    "import random"
   ]
  },
  {
   "cell_type": "code",
   "execution_count": 33,
   "metadata": {},
   "outputs": [
    {
     "name": "stdout",
     "output_type": "stream",
     "text": [
      "<__main__.Column object at 0x00000218C0F81CF8>\n"
     ]
    }
   ],
   "source": [
    "# * 探索代码\n",
    "'''\n",
    "[1 if x > 7 else 0 for x in range(0, 10)]\n",
    "\n",
    "encoder = Encoder()\n",
    "sdr = encoder.encode(0.7)\n",
    "np.array(sdr).sum()\n",
    "'''\n",
    "print(columns[4].cells[7].column)"
   ]
  },
  {
   "cell_type": "markdown",
   "metadata": {},
   "source": [
    "### SDR SCalar Encoder"
   ]
  },
  {
   "cell_type": "code",
   "execution_count": 7,
   "metadata": {},
   "outputs": [],
   "source": [
    "# Encoder.\n",
    "class Encoder:\n",
    "    def __init__(self):\n",
    "        super(Encoder, self).__init__()\n",
    "    '''\n",
    "    input - output from a MinMaxScalar, ranging from 0 to 1\n",
    "    output- sparse distributed representation\n",
    "    '''\n",
    "    def encode(self, f):\n",
    "        if (f <= 0 or f >= 1):\n",
    "            raise Exception('range of (0, 1) exceeded')\n",
    "        lower = math.floor(2000 * f)\n",
    "        upper = lower + 49\n",
    "        return [1 if x >= lower and x < upper else 0 for x in range(0, 2048)]"
   ]
  },
  {
   "cell_type": "markdown",
   "metadata": {},
   "source": [
    "### Temoral Memory"
   ]
  },
  {
   "cell_type": "code",
   "execution_count": 36,
   "metadata": {},
   "outputs": [],
   "source": [
    "# 定义参数\n",
    "LEARNING_ENABLED=True\n",
    "## 网络规模\n",
    "NUMBER_OF_COLUMNS = 2048\n",
    "NUMBER_OF_CELLS   = 32\n",
    "MAX_SEGMENTS      = 256\n",
    "MAX_SYNAPSES      = 256\n",
    "## Synapse -> Segment\n",
    "INITIAL_PERMANENCE= 0.21\n",
    "CONNECTED_PERMANENCE=0\n",
    "ACTIVATION_PERMANENCE=0.5\n",
    "PERMANENCE_INCREMENT=0.1\n",
    "PERMANENCE_DECREMENT=0.1\n",
    "PREDICTED_DECREMENT=0\n",
    "SYNAPSE_SAMPLE_SIZE=20\n",
    "## Segment -> Column/Cell\n",
    "ACTIVATION_THRESHOLD=13\n",
    "LEARNING_THRESHOLD  =7"
   ]
  },
  {
   "cell_type": "code",
   "execution_count": 15,
   "metadata": {},
   "outputs": [],
   "source": [
    "# 定义全局计数器\n",
    "columns_ctr = 0\n",
    "cell_ctr = 0\n",
    "segment_ctr = 0\n",
    "synapse_ctr = 0"
   ]
  },
  {
   "cell_type": "code",
   "execution_count": 39,
   "metadata": {},
   "outputs": [],
   "source": [
    "# 定义对象\n",
    "class Column:\n",
    "    def __init__(self):\n",
    "        super(Column, self).__init__()\n",
    "        global columns_ctr\n",
    "        self.id = columns_ctr\n",
    "        columns_ctr = columns_ctr + 1\n",
    "        self.cells = []\n",
    "    def __str__(self):\n",
    "        return (\"Column%d\" % (self.id))\n",
    "\n",
    "class Cell:\n",
    "    def __init__(self, column):\n",
    "        super(Cell, self).__init__()\n",
    "        global cell_ctr\n",
    "        self.id = cell_ctr\n",
    "        cell_ctr = cell_ctr + 1\n",
    "        self.column = column\n",
    "        self.segments = []\n",
    "    def __str__(self):\n",
    "        return (\"Cell%d\" % (self.id))\n",
    "\n",
    "class Segment:\n",
    "    def __init__(self, cell):\n",
    "        super(Segment, self).__init__()\n",
    "        global segment_ctr\n",
    "        self.id = segment_ctr\n",
    "        segment_ctr = segment_ctr + 1\n",
    "        self.cell = cell\n",
    "        self.synapses=[]\n",
    "    def __str__(self):\n",
    "        return (\"Segment%d\" % (self.id))\n",
    "\n",
    "class Synapse:\n",
    "    def __init__(self, presynapticCell, postSynapticSegment, permanence):\n",
    "        super(Synapse, self).__init__()\n",
    "        global synapse_ctr\n",
    "        self.id = synapse_ctr\n",
    "        synapse_ctr = synapse_ctr + 1\n",
    "        self.presynapticCell = presynapticCell\n",
    "        self.postSynapticSegment= postSynapticSegment\n",
    "        self.permanence  = permanence\n",
    "    def __str__(self):\n",
    "        return (\"Synapse%d\" % (self.id))"
   ]
  },
  {
   "cell_type": "code",
   "execution_count": 13,
   "metadata": {},
   "outputs": [],
   "source": [
    "# 定义数据结构\n",
    "columns = []\n",
    "active_columns = []\n",
    "cells   = []\n",
    "active_cells = []\n",
    "winner_cells = []\n",
    "segments= []\n",
    "active_segments = []\n",
    "matching_segments = []\n",
    "synapses= []\n",
    "num_active_potential_senapse = []"
   ]
  },
  {
   "cell_type": "code",
   "execution_count": 31,
   "metadata": {},
   "outputs": [],
   "source": [
    "# 初始化Column/Cell\n",
    "for i in range(0, NUMBER_OF_COLUMNS):\n",
    "    column = Column()\n",
    "    columns.append(column)\n",
    "    for j in range(0, NUMBER_OF_CELLS):\n",
    "        cell = Cell(column)\n",
    "        column.cells.append(cell)"
   ]
  },
  {
   "cell_type": "markdown",
   "metadata": {},
   "source": [
    "Data Manipulation Functions"
   ]
  },
  {
   "cell_type": "code",
   "execution_count": 40,
   "metadata": {},
   "outputs": [],
   "source": [
    "def chooseRandom(seq):\n",
    "    if len(seq < 1):\n",
    "        raise Exception('empty list')\n",
    "    return random.sample(seq, len(seq))[0]"
   ]
  },
  {
   "cell_type": "code",
   "execution_count": 41,
   "metadata": {},
   "outputs": [],
   "source": [
    "def segmentsForColumn(column, segments):\n",
    "    filtered = []\n",
    "    for segment in segments:\n",
    "        if segment.cell.column.id == column.id:\n",
    "            filtered.append(segment)\n",
    "    return filtered"
   ]
  },
  {
   "cell_type": "code",
   "execution_count": 42,
   "metadata": {},
   "outputs": [],
   "source": [
    "def growNewSegment(cell):\n",
    "    segment = Segment(cell)\n",
    "    cell.segments.append(segment)\n",
    "    segments.append(segment)\n",
    "    return segment"
   ]
  },
  {
   "cell_type": "code",
   "execution_count": 43,
   "metadata": {},
   "outputs": [],
   "source": [
    "def createNewSynapse(segment, presynapticCell, permanence):\n",
    "    synapse = Synapse(presynapticCell, segment, permanence)\n",
    "    segment.synapses.append(synapse)\n",
    "    synapses.append(synapse)\n",
    "    return synapse"
   ]
  },
  {
   "cell_type": "markdown",
   "metadata": {},
   "source": [
    "Utility"
   ]
  },
  {
   "cell_type": "code",
   "execution_count": 44,
   "metadata": {},
   "outputs": [],
   "source": [
    "def leastUsedCell(column):\n",
    "    fewestSegments = MAX_SEGMENTS\n",
    "    for cell in column.cells:\n",
    "        fewestSegments = min(fewestSegments, cell.segments.length)\n",
    "\n",
    "    leastUsedCells = []\n",
    "    for cell in column.cells:\n",
    "        if cell.segments.length == fewestSegments:\n",
    "            leastUsedCells.append(cell)\n",
    "\n",
    "    return chooseRandom(leastUsedCells)"
   ]
  },
  {
   "cell_type": "code",
   "execution_count": 45,
   "metadata": {},
   "outputs": [],
   "source": [
    "def bestMatchingSegment(column):\n",
    "    bestMatchingSegment = None\n",
    "    bestScore = -1\n",
    "    for segment in segmentsForColumn(column, matching_segments[t-1]):\n",
    "        if num_active_potential_senapse[t-1][segment] > bestScore:\n",
    "            bestMatchingSegment = segment\n",
    "            bestScore = num_active_potential_senapse[t-1][segment]\n",
    "\n",
    "    return bestMatchingSegment"
   ]
  },
  {
   "cell_type": "code",
   "execution_count": 46,
   "metadata": {},
   "outputs": [],
   "source": [
    "def growSynapses(segment, newSynapseCount):\n",
    "    candidates = winner_cells[t-1].clone()\n",
    "    while len(candidates) > 0 and newSynapseCount > 0:\n",
    "        presynapticCell = chooseRandom(candidates)\n",
    "        candidates.remove(presynapticCell)\n",
    "\n",
    "        alreadyConnected = False\n",
    "        for synapse in segment.synapses:\n",
    "            if synapse.pre_segment.cell == presynapticCell:\n",
    "                alreadyConnected = True\n",
    "\n",
    "        if alreadyConnected == False:\n",
    "            newSynapse = createNewSynapse(segment, presynapticCell, INITIAL_PERMANENCE)\n",
    "            newSynapseCount = newSynapseCount - 1"
   ]
  },
  {
   "cell_type": "markdown",
   "metadata": {},
   "source": [
    "Sequential Memory"
   ]
  },
  {
   "cell_type": "code",
   "execution_count": 47,
   "metadata": {},
   "outputs": [],
   "source": [
    "def activatePredictedColumn(column):\n",
    "    for segment in segmentsForColumn(column, active_segments[t-1]):\n",
    "        active_cells[t].append(segment.cell)\n",
    "        winner_cells[t].append(segment.cell)\n",
    "    if LEARNING_ENABLED:\n",
    "        for synapse in segment.synapses:\n",
    "            if synapse.pre_segment.cell in active_cells[t-1]:\n",
    "                synapse.permanence = synapse.permanence + PERMANENCE_INCREMENT\n",
    "            else:\n",
    "                synapse.permanence = synapse.permanence - PERMANENCE_DECREMENT\n",
    "        newSynapseCount = (SYNAPSE_SAMPLE_SIZE - num_active_potential_senapse[t-1][segment])\n",
    "        growSynapses(segment, newSynapseCount)"
   ]
  },
  {
   "cell_type": "code",
   "execution_count": 48,
   "metadata": {},
   "outputs": [],
   "source": [
    "def burstColumn(column):\n",
    "    for cell in column.cells:\n",
    "        active_cells[t].append(cell)\n",
    "    \n",
    "    if segmentsForColumn(column, matching_segments[t-1]).length > 0:\n",
    "        learningSegment = bestMatchingSegment(column)\n",
    "        winnerCell = learningSegment.cell\n",
    "    else:\n",
    "        winnerCell = leastUsedCell(column)\n",
    "        if LEARNING_ENABLED:\n",
    "            learningSegment = growNewSegment(winnerCell)\n",
    "\n",
    "    winner_cells[t].add(winnerCell)\n",
    "\n",
    "    if LEARNING_ENABLED:\n",
    "        for synapse in learningSegment.synapses:\n",
    "            if synapse.pre_segment.cell in active_cells[t-1]:\n",
    "                synapse.permanence += PERMANENCE_INCREMENT\n",
    "            else:\n",
    "                synapse.permanence -= PERMANENCE_DECREMENT\n",
    "\n",
    "        newSynapseCount = (SYNAPSE_SAMPLE_SIZE - num_active_potential_senapse[t-1][learningSegment])\n",
    "        growSynapses(learningSegment, newSynapseCount)"
   ]
  },
  {
   "cell_type": "code",
   "execution_count": 49,
   "metadata": {},
   "outputs": [],
   "source": [
    "def punishPredictedColumn(column):\n",
    "    if LEARNING_ENABLED:\n",
    "        for segment in segmentsForColumn(column, matching_segments[t-1]):\n",
    "            for synapse in segment.synapses:\n",
    "                if synapse.pre_segment.cell in active_cells[t-1]:\n",
    "                    synapse.permanence -= PREDICTED_DECREMENT"
   ]
  },
  {
   "cell_type": "markdown",
   "metadata": {},
   "source": [
    "HTM"
   ]
  },
  {
   "cell_type": "code",
   "execution_count": 50,
   "metadata": {},
   "outputs": [
    {
     "ename": "IndexError",
     "evalue": "list assignment index out of range",
     "output_type": "error",
     "traceback": [
      "\u001b[1;31m---------------------------------------------------------------------------\u001b[0m",
      "\u001b[1;31mIndexError\u001b[0m                                Traceback (most recent call last)",
      "\u001b[1;32m~\\AppData\\Local\\Temp\\ipykernel_24808\\3024741884.py\u001b[0m in \u001b[0;36m<module>\u001b[1;34m\u001b[0m\n\u001b[0;32m      5\u001b[0m     \u001b[1;32mif\u001b[0m \u001b[0mt\u001b[0m \u001b[1;33m>\u001b[0m \u001b[1;36m0\u001b[0m\u001b[1;33m:\u001b[0m\u001b[1;33m\u001b[0m\u001b[1;33m\u001b[0m\u001b[0m\n\u001b[0;32m      6\u001b[0m         \u001b[0mt\u001b[0m \u001b[1;33m=\u001b[0m \u001b[0mt\u001b[0m \u001b[1;33m+\u001b[0m \u001b[1;36m1\u001b[0m\u001b[1;33m\u001b[0m\u001b[1;33m\u001b[0m\u001b[0m\n\u001b[1;32m----> 7\u001b[1;33m     \u001b[0mactive_columns\u001b[0m\u001b[1;33m[\u001b[0m\u001b[0mt\u001b[0m\u001b[1;33m]\u001b[0m \u001b[1;33m=\u001b[0m \u001b[0mencoder\u001b[0m\u001b[1;33m.\u001b[0m\u001b[0mencode\u001b[0m\u001b[1;33m(\u001b[0m\u001b[0mkpi\u001b[0m\u001b[1;33m)\u001b[0m\u001b[1;33m\u001b[0m\u001b[1;33m\u001b[0m\u001b[0m\n\u001b[0m\u001b[0;32m      8\u001b[0m     \u001b[1;31m# Evaluate the active columns against predictions. Choose a set of active cells\u001b[0m\u001b[1;33m\u001b[0m\u001b[1;33m\u001b[0m\u001b[1;33m\u001b[0m\u001b[0m\n\u001b[0;32m      9\u001b[0m     \u001b[1;32mfor\u001b[0m \u001b[0mcolumn\u001b[0m \u001b[1;32min\u001b[0m \u001b[0mcolumns\u001b[0m\u001b[1;33m:\u001b[0m\u001b[1;33m\u001b[0m\u001b[1;33m\u001b[0m\u001b[0m\n",
      "\u001b[1;31mIndexError\u001b[0m: list assignment index out of range"
     ]
    }
   ],
   "source": [
    "series = [0.3, 0.5, 0.1, 0.7]\n",
    "encoder = Encoder()\n",
    "t = 0\n",
    "for kpi in series:\n",
    "    if t > 0:\n",
    "        t = t + 1\n",
    "    active_columns[t] = encoder.encode(kpi)\n",
    "    # Evaluate the active columns against predictions. Choose a set of active cells\n",
    "    for column in columns:\n",
    "        if column in active_columns[t]:\n",
    "            if segmentsForColumn(column, active_segments[t-1]).length > 0:\n",
    "                activatePredictedColumn(column)\n",
    "            else:\n",
    "                burstColumn(column)\n",
    "        elif segmentsForColumn(column, matching_segments[t-1]).length > 0:\n",
    "            punishPredictedColumn(column)\n",
    "    # Activate a set of dendrite segments\n",
    "    for segment in segments:\n",
    "        numActiveConnected = 0\n",
    "        numActivePotential = 0\n",
    "        for synapse in segment.synapses:\n",
    "            if synapse.pre_segment.cell in active_cells[t]:\n",
    "                if synapse.permanence >= CONNECTED_PERMANENCE:\n",
    "                    numActiveConnected += 1\n",
    "\n",
    "                if synapse.permanence >= 0:\n",
    "                    numActivePotential += 1\n",
    "\n",
    "        if numActiveConnected >= ACTIVATION_THRESHOLD:\n",
    "            active_segments[t].append(segment)\n",
    "\n",
    "        if numActivePotential >= LEARNING_THRESHOLD:\n",
    "            matching_segments[t].append(segment)\n",
    "\n",
    "        num_active_potential_senapse[t][segment] = numActivePotential"
   ]
  }
 ],
 "metadata": {
  "interpreter": {
   "hash": "c26b10e94c62085fc47affa68e83b97a20faa7df4bd67b84d9f35c79618f4dfd"
  },
  "kernelspec": {
   "display_name": "Python 3.7.3 64-bit",
   "language": "python",
   "name": "python3"
  },
  "language_info": {
   "codemirror_mode": {
    "name": "ipython",
    "version": 3
   },
   "file_extension": ".py",
   "mimetype": "text/x-python",
   "name": "python",
   "nbconvert_exporter": "python",
   "pygments_lexer": "ipython3",
   "version": "3.7.3"
  },
  "orig_nbformat": 4
 },
 "nbformat": 4,
 "nbformat_minor": 2
}
